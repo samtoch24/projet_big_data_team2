{
 "cells": [
  {
   "cell_type": "markdown",
   "metadata": {
    "collapsed": true,
    "pycharm": {
     "name": "#%% md\n"
    }
   },
   "source": [
    "# Big Data - Technical - Streaming - TP - part 1"
   ]
  },
  {
   "cell_type": "code",
   "execution_count": 11,
   "metadata": {
    "pycharm": {
     "name": "#%%\n"
    }
   },
   "outputs": [],
   "source": [
    "from time import sleep\n",
    "from pyspark.streaming import StreamingContext\n",
    "from pyspark.sql import SparkSession\n",
    "import random"
   ]
  },
  {
   "cell_type": "markdown",
   "metadata": {},
   "source": [
    "#### 1. Créez une session Spark"
   ]
  },
  {
   "cell_type": "code",
   "execution_count": 12,
   "metadata": {
    "pycharm": {
     "name": "#%%\n"
    }
   },
   "outputs": [],
   "source": [
    "spark = SparkSession.builder.appName(\"AddLastTwo\").config(\"spark.driver.bindAddress\", \"127.0.0.1\").getOrCreate()"
   ]
  },
  {
   "cell_type": "markdown",
   "metadata": {},
   "source": [
    "#### 2. Créez le contexte spark"
   ]
  },
  {
   "cell_type": "code",
   "execution_count": 13,
   "metadata": {
    "pycharm": {
     "name": "#%%\n"
    }
   },
   "outputs": [],
   "source": [
    "sc = spark.sparkContext"
   ]
  },
  {
   "cell_type": "markdown",
   "metadata": {},
   "source": [
    "#### 3. Créez le contexte de Streaming Spark"
   ]
  },
  {
   "cell_type": "code",
   "execution_count": 14,
   "metadata": {
    "pycharm": {
     "name": "#%%\n"
    }
   },
   "outputs": [],
   "source": [
    "ssc = StreamingContext(sc, 1)"
   ]
  },
  {
   "cell_type": "markdown",
   "metadata": {},
   "source": [
    "#### 4. Préparez le flux entrant"
   ]
  },
  {
   "cell_type": "code",
   "execution_count": 15,
   "metadata": {
    "pycharm": {
     "name": "#%%\n"
    }
   },
   "outputs": [],
   "source": [
    "rddQueue = []\n",
    "for i in range(5):\n",
    "    rddQueue += [ssc.sparkContext.parallelize([i, i+1])]"
   ]
  },
  {
   "cell_type": "markdown",
   "metadata": {},
   "source": [
    "#### 5. Créez le flux entrant"
   ]
  },
  {
   "cell_type": "code",
   "execution_count": 16,
   "metadata": {
    "pycharm": {
     "name": "#%%\n"
    }
   },
   "outputs": [],
   "source": [
    "inputStream = ssc.queueStream(rddQueue)"
   ]
  },
  {
   "cell_type": "markdown",
   "metadata": {},
   "source": [
    "#### 6. Affichez les valeurs du flux entrant"
   ]
  },
  {
   "cell_type": "code",
   "execution_count": 17,
   "metadata": {
    "pycharm": {
     "name": "#%%\n"
    }
   },
   "outputs": [],
   "source": [
    "inputStream.map(lambda x: \"Input: \" + str(x)).pprint()"
   ]
  },
  {
   "cell_type": "markdown",
   "metadata": {},
   "source": [
    "#### 7. Effectuez les traitements en streaming"
   ]
  },
  {
   "cell_type": "code",
   "execution_count": 18,
   "metadata": {
    "pycharm": {
     "name": "#%%\n"
    }
   },
   "outputs": [],
   "source": [
    "inputStream.reduce(lambda x,y:x+y)\\\n",
    "    .map(lambda x: \"Output: \" + str(x))\\\n",
    "    .pprint()"
   ]
  },
  {
   "cell_type": "markdown",
   "metadata": {},
   "source": [
    "#### 8. Exécutez le streaming pendant 5 secondes"
   ]
  },
  {
   "cell_type": "code",
   "execution_count": null,
   "metadata": {
    "pycharm": {
     "is_executing": true,
     "name": "#%%\n"
    }
   },
   "outputs": [
    {
     "name": "stdout",
     "output_type": "stream",
     "text": [
      "-------------------------------------------\n",
      "Time: 2021-04-28 22:09:26\n",
      "-------------------------------------------\n",
      "Input: 0\n",
      "Input: 1\n",
      "\n",
      "-------------------------------------------\n",
      "Time: 2021-04-28 22:09:26\n",
      "-------------------------------------------\n",
      "Output: 1\n",
      "\n",
      "-------------------------------------------\n",
      "Time: 2021-04-28 22:09:27\n",
      "-------------------------------------------\n",
      "Input: 1\n",
      "Input: 2\n",
      "\n"
     ]
    }
   ],
   "source": [
    "ssc.start()\n",
    "sleep(5)\n",
    "ssc.stop(stopSparkContext=True, stopGraceFully=True)"
   ]
  },
  {
   "cell_type": "markdown",
   "metadata": {},
   "source": [
    "## Comptage de mots"
   ]
  },
  {
   "cell_type": "code",
   "execution_count": null,
   "metadata": {
    "pycharm": {
     "is_executing": true,
     "name": "#%%\n"
    }
   },
   "outputs": [],
   "source": [
    "from time import sleep\n",
    "from pyspark.streaming import StreamingContext\n",
    "from pyspark.sql import SparkSession\n",
    "spark = SparkSession.builder.appName(\"WordCount\").config(\"spark.driver.bindAddress\", \"127.0.0.1\").getOrCreate()\n",
    "sc = spark.sparkContext\n",
    "ssc = StreamingContext(sc, 1)\n",
    "\n",
    "# valeurs\n",
    "titles = [\"Coronavirus : \\\"rien n'est exclu\\\" concernant un renforcement des mesures sanitaires à Paris, annonce le gouvernement\",\n",
    "\"Coronavirus : \\\"La culture au sens large bénéficiera d'une dotation exceptionnelle de deux milliards d'euros sur les 100 du plan de relance\\\", annonce Jean Castex\",\n",
    "\"Coronavirus : le plan de relance du gouvernement sera présenté jeudi 3 septembre, annonce Jean Castex\",\n",
    "\"Jean Castex le Premier ministre, invité de France Inter le 26 août 2020.\",\n",
    "\"Jean Castex ne veut pas \\\"payer des masques à des familles qui n'en ont pas besoin\\\"\",\n",
    "\"Christophe Mirmand, préfet des Bouches-du-Rhône, le 24 août 2020 devant l\\'Arc de triomphe de la place Jules Guesde à Marseille.\",\n",
    "\"Fermeture des bars et restaurants à 23 heures dans les Bouches-du-Rhône : \\\"Il ne s'agit pas de donner l'impression à la population d'être brimée\\\", affirme le préfet\",\n",
    "\"Des passants sur la plage belge de Blankenberge en Belgique, le 15 août 2020.\",\n",
    "\"Coronavirus : la Belgique revoit à la baisse son nombre de morts\"]\n",
    "\n",
    "\n",
    "# flux entrant\n",
    "rddQueue = []\n",
    "for i in range(len(titles)):\n",
    "    rddQueue += [ssc.sparkContext.parallelize(titles[i].replace(':', ' ').split(' '))]\n",
    "inputStream = ssc.queueStream(rddQueue)\n",
    "\n",
    "inputStream.map(lambda x: \"mot: \" + str(x)).pprint()\n",
    "\n",
    "inputStream.map(lambda x: 1) \\\n",
    "    .reduce(lambda x,y:x + y) \\\n",
    "    .map(lambda x: str(x) + \" mots reçus\")\\\n",
    "    .pprint()\n",
    "\n",
    "ssc.start()\n",
    "sleep(10)\n",
    "ssc.stop(stopSparkContext=True, stopGraceFully=True)"
   ]
  },
  {
   "cell_type": "code",
   "execution_count": null,
   "metadata": {},
   "outputs": [],
   "source": []
  }
 ],
 "metadata": {
  "kernelspec": {
   "display_name": "Python 3",
   "language": "python",
   "name": "python3"
  },
  "language_info": {
   "codemirror_mode": {
    "name": "ipython",
    "version": 3
   },
   "file_extension": ".py",
   "mimetype": "text/x-python",
   "name": "python",
   "nbconvert_exporter": "python",
   "pygments_lexer": "ipython3",
   "version": "3.7.6"
  }
 },
 "nbformat": 4,
 "nbformat_minor": 1
}
