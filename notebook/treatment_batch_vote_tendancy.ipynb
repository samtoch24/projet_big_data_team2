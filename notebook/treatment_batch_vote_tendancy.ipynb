{
 "cells": [
  {
   "cell_type": "markdown",
   "metadata": {
    "collapsed": true,
    "pycharm": {
     "name": "#%% md\n"
    }
   },
   "source": [
    "# Collecte and processing (Batch) on daily vote trend\n",
    "\n",
    "Analysis and batch processing of a csv file on the daily voting trend with spark\n",
    "\n",
    "#### Importation of the necessary libraries"
   ]
  },
  {
   "cell_type": "code",
   "execution_count": null,
   "outputs": [],
   "source": [
    "import os\n",
    "from datetime import datetime\n",
    "import datadotworld as dw\n",
    "import csv\n",
    "from pyspark.sql import SparkSession"
   ],
   "metadata": {
    "collapsed": false,
    "pycharm": {
     "name": "#%%\n"
    }
   }
  },
  {
   "cell_type": "markdown",
   "source": [
    "## Collect\n",
    "#### Download and storage a pdf file (collecte and storage)\n",
    "With the datadotworld library, we download a dataset from the site \"data.world\" (an American open data) containing several csv files and we open one and delpacons it to the desired location"
   ],
   "metadata": {
    "collapsed": false,
    "pycharm": {
     "name": "#%% md\n"
    }
   }
  },
  {
   "cell_type": "code",
   "execution_count": null,
   "outputs": [],
   "source": [
    "file = 'presidential_state_toplines_2020.csv'\n",
    "dataset = dw.load_dataset('fivethirtyeight/2020-general-election-forecast'   )\n",
    "\n",
    "if not os.path.isfile(file'):\n",
    "        f =open(file,'w')\n",
    "        f.close()\n",
    "\n",
    "with open(file,'w') as w:\n",
    "    relation = csv.writer(w, delimiter=',')\n",
    "    relation.writerow(dataset.tables[file][0].keys())\n",
    "    for i in range(len(dataset.tables[file])):\n",
    "        relation.writerow(dataset.tables[file][i].values())"
   ],
   "metadata": {
    "collapsed": false,
    "pycharm": {
     "name": "#%%\n"
    }
   }
  },
  {
   "cell_type": "markdown",
   "source": [
    "#### Display the informations of the csv's download"
   ],
   "metadata": {
    "collapsed": false
   }
  },
  {
   "cell_type": "code",
   "execution_count": null,
   "outputs": [],
   "source": [
    "info = os.stat(file)\n",
    "print(info)\n",
    "print(\"size (Mo): \", round(info.st_size/1000000, 3))\n",
    "print(\"last_update: \", datetime.fromtimestamp(info.st_ctime))"
   ],
   "metadata": {
    "collapsed": false,
    "pycharm": {
     "name": "#%%\n"
    }
   }
  },
  {
   "cell_type": "markdown",
   "source": [
    "#### Read and explore the csv's file"
   ],
   "metadata": {
    "collapsed": false
   }
  },
  {
   "cell_type": "code",
   "execution_count": null,
   "outputs": [],
   "source": [
    "df = pd.read_csv(file, sep=\";\", nrows=20000)\n",
    "df.info()\n"
   ],
   "metadata": {
    "collapsed": false,
    "pycharm": {
     "name": "#%%\n"
    }
   }
  },
  {
   "cell_type": "markdown",
   "source": [
    "#### Make some queries on data"
   ],
   "metadata": {
    "collapsed": false
   }
  },
  {
   "cell_type": "code",
   "execution_count": null,
   "outputs": [],
   "source": [
    "df.groupby(['state'])['winstate_inc'].sum()\n",
    "df.groupby(['state'])['winstate_chal'].sum()\n",
    "df.groupby(['modeldate'])['winstate_inc'].sum()\n",
    "df.groupby(['modeldate'])['winstate_chal'].sum()\n"
   ],
   "metadata": {
    "collapsed": false,
    "pycharm": {
     "name": "#%%\n"
    }
   }
  }
 ],
 "metadata": {
  "kernelspec": {
   "name": "powershell",
   "language": "powershell",
   "display_name": "PowerShell"
  },
  "language_info": {
   "codemirror_mode": {
    "name": "ipython",
    "version": 2
   },
   "file_extension": ".py",
   "mimetype": "text/x-python",
   "name": "python",
   "nbconvert_exporter": "python",
   "pygments_lexer": "ipython2",
   "version": "2.7.6"
  }
 },
 "nbformat": 4,
 "nbformat_minor": 0
}