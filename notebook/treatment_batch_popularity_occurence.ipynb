{
 "cells": [
  {
   "cell_type": "markdown",
   "metadata": {
    "collapsed": true,
    "pycharm": {
     "name": "#%% md\n"
    }
   },
   "source": [
    "# Collect and processing (Batch)  on the popularity of the candidates\n",
    "Occurrence of a candidate in a pdf file. Use of the PyPdf2 library to read the file and extract the occurrences of the candidates' names.\n",
    "\n",
    "#### Importation of the necessary libraries"
   ]
  },
  {
   "cell_type": "code",
   "execution_count": 1,
   "outputs": [],
   "source": [
    "import os\n",
    "from datetime import datetime\n",
    "from urllib.request import urlopen, urlretrieve\n",
    "import PyPDF2 as p\n",
    "from bs4 import BeautifulSoup\n",
    "from pyspark.sql import SparkSession\n",
    "\n",
    "# File path\n",
    "file = 'file_occurence.pdf'"
   ],
   "metadata": {
    "collapsed": false,
    "pycharm": {
     "name": "#%%\n"
    }
   }
  },
  {
   "cell_type": "markdown",
   "source": [
    "## Collect\n",
    "#### Download and storage a pdf file (collecte and storage)\n",
    "With the beautifulSoup library of the bs4 library, we scrape the html page to get the download link; and then we download the file"
   ],
   "metadata": {
    "collapsed": false
   }
  },
  {
   "cell_type": "code",
   "execution_count": 2,
   "outputs": [
    {
     "data": {
      "text/plain": "('file_occurence.pdf', <http.client.HTTPMessage at 0x194c433cd88>)"
     },
     "execution_count": 2,
     "metadata": {},
     "output_type": "execute_result"
    }
   ],
   "source": [
    "url = 'https://search.usa.gov/search?utf8=%E2%9C%93&affiliate=usagov&query=elections+pr%C3%A9sidentielles'\n",
    "page = urlopen(url)\n",
    "soup = BeautifulSoup(page, \"html.parser\")\n",
    "h4 = [elt for elt in soup.findAll(\"h4\") if 'ÉLECTIONS' in elt.getText()][0]\n",
    "a = [elt for elt in h4.findAll('a') if 'ÉLECTIONS' in elt.getText()][0]\n",
    "link = a['href']\n",
    "urlretrieve(link, file)"
   ],
   "metadata": {
    "collapsed": false,
    "pycharm": {
     "name": "#%%\n"
    }
   }
  },
  {
   "cell_type": "markdown",
   "source": [
    "#### Display the informations of the pdf's download"
   ],
   "metadata": {
    "collapsed": false
   }
  },
  {
   "cell_type": "code",
   "source": [
    "info = os.stat(file)\n",
    "print(info)\n",
    "print(\"size (Mo): \", round(info.st_size/1000000, 3))\n",
    "print(\"last_update: \", datetime.fromtimestamp(info.st_ctime))"
   ],
   "metadata": {
    "collapsed": false,
    "pycharm": {
     "name": "#%%\n"
    }
   },
   "execution_count": 3,
   "outputs": [
    {
     "name": "stdout",
     "output_type": "stream",
     "text": [
      "os.stat_result(st_mode=33206, st_ino=8162774325066304, st_dev=2721925331, st_nlink=1, st_uid=0, st_gid=0, st_size=1661914, st_atime=1619612625, st_mtime=1619612625, st_ctime=1619612625)\n",
      "size (Mo):  1.662\n",
      "last_update:  2021-04-28 14:23:45.481010\n"
     ]
    }
   ]
  },
  {
   "cell_type": "markdown",
   "source": [
    "#### Read and explore the pdf's file"
   ],
   "metadata": {
    "collapsed": false,
    "pycharm": {
     "name": "#%% md\n"
    }
   }
  },
  {
   "cell_type": "code",
   "execution_count": 4,
   "outputs": [
    {
     "name": "stdout",
     "output_type": "stream",
     "text": [
      "USA\n",
      "ÉLECTIONS\n",
      "en bref\n",
      "\n"
     ]
    }
   ],
   "source": [
    "a = p.PdfFileReader(file)\n",
    "texte = \" \"\n",
    "for i in range(0, a.getNumPages()):\n",
    "    texte = texte + a.getPage(i).extractText()\n",
    "print(a.getPage(0).extractText())"
   ],
   "metadata": {
    "collapsed": false,
    "pycharm": {
     "name": "#%%\n"
    }
   }
  },
  {
   "cell_type": "markdown",
   "source": [
    "## Batch processing\n",
    "#### Creation of the spark session"
   ],
   "metadata": {
    "collapsed": false
   }
  },
  {
   "cell_type": "code",
   "execution_count": 5,
   "outputs": [],
   "source": [
    "spark = SparkSession.builder.appName(\"Candidate's occurences\").config(\"spark.driver.bindAddress\",\n",
    "                                                                      \"127.0.0.1\").getOrCreate()"
   ],
   "metadata": {
    "collapsed": false,
    "pycharm": {
     "name": "#%%\n"
    }
   }
  },
  {
   "cell_type": "markdown",
   "source": [
    "#### Initialization of the context"
   ],
   "metadata": {
    "collapsed": false,
    "pycharm": {
     "name": "#%% md\n"
    }
   }
  },
  {
   "cell_type": "code",
   "execution_count": 6,
   "outputs": [],
   "source": [
    "sc = spark.sparkContext"
   ],
   "metadata": {
    "collapsed": false,
    "pycharm": {
     "name": "#%%\n"
    }
   }
  },
  {
   "cell_type": "markdown",
   "source": [
    "#### Parallelization of processing on the file"
   ],
   "metadata": {
    "collapsed": false,
    "pycharm": {
     "name": "#%% md\n"
    }
   }
  },
  {
   "cell_type": "code",
   "execution_count": 7,
   "outputs": [],
   "source": [
    "file_pdf = sc.parallelize(texte)"
   ],
   "metadata": {
    "collapsed": false,
    "pycharm": {
     "name": "#%%\n"
    }
   }
  },
  {
   "cell_type": "markdown",
   "source": [
    "#### Evaluation function that returns 0 if the name of a candidate appears in the file and 1 otherwise"
   ],
   "metadata": {
    "collapsed": false,
    "pycharm": {
     "name": "#%% md\n"
    }
   }
  },
  {
   "cell_type": "code",
   "execution_count": 8,
   "outputs": [],
   "source": [
    "ListCandidats = [\"Trump\", \"Biden\"]\n",
    "\n",
    "def mapEvaluation(word):\n",
    "    return (word, int(not word in ListCandidats))"
   ],
   "metadata": {
    "collapsed": false,
    "pycharm": {
     "name": "#%%\n"
    }
   }
  },
  {
   "cell_type": "markdown",
   "source": [
    "#### Batch processing with spark"
   ],
   "metadata": {
    "collapsed": false,
    "pycharm": {
     "name": "#%% md\n"
    }
   }
  },
  {
   "cell_type": "code",
   "execution_count": 9,
   "outputs": [
    {
     "name": "stdout",
     "output_type": "stream",
     "text": [
      " 21970\n",
      "L 195\n",
      "s 5129\n",
      "l 3205\n",
      "c 2116\n",
      "r 3686\n",
      "i 4055\n",
      "b 451\n",
      "p 1725\n",
      "g 626\n",
      "™ 571\n",
      "y 130\n",
      "N 91\n",
      "O 53\n",
      "J 14\n",
      "4 37\n",
      "; 12\n",
      "É 32\n",
      "« 19\n",
      "K 6\n",
      "[ 1\n",
      "ï 1\n",
      "e 7942\n",
      "a 3971\n",
      "m 1249\n",
      "x 274\n",
      "˜ 117\n",
      "Q 7\n",
      "è 211\n",
      "U 91\n",
      "7 33\n",
      "â 13\n",
      "T 85\n",
      "B 39\n",
      ") 51\n",
      "3 54\n",
      "M 51\n",
      "A 149\n",
      "ù 12\n",
      "F 27\n",
      "H 19\n",
      "ô 19\n",
      "6 45\n",
      "% 7\n",
      "z 14\n",
      "î 9\n",
      "w 20\n",
      "À 4\n",
      "˛ 2\n",
      "d 2702\n",
      "\n",
      " 1494\n",
      "à 311\n",
      "h 261\n",
      ". 431\n",
      "1 143\n",
      "û 7\n",
      "C 181\n",
      "8 56\n",
      "R 70\n",
      "0 150\n",
      "S 132\n",
      "» 19\n",
      "j 77\n",
      "9 53\n",
      "Ô 1\n",
      "? 2\n",
      "W 18\n",
      "œ 3\n",
      "© 4\n",
      "é 1647\n",
      "t 4559\n",
      "u 2991\n",
      "n 4508\n",
      "q 467\n",
      "o 3125\n",
      "v 650\n",
      "f 410\n",
      "D 97\n",
      "ê 80\n",
      "E 291\n",
      ", 534\n",
      "ç 13\n",
      ": 21\n",
      "˚ 17\n",
      "- 253\n",
      "Œ 37\n",
      "I 123\n",
      "P 76\n",
      "k 26\n",
      "( 51\n",
      "2 109\n",
      "5 44\n",
      "X 20\n",
      "G 32\n",
      "V 20\n",
      "Y 7\n",
      "È 4\n",
      "/ 5\n",
      "] 1\n"
     ]
    }
   ],
   "source": [
    "C_wordcount = file_pdf.flatMap(lambda line: line.split(' ')).map(mapEvaluation).reduceByKey(\n",
    "    lambda count1, count2: count1 + count2).collect()\n",
    "for (word, count) in C_wordcount:\n",
    "     print(word, count)"
   ],
   "metadata": {
    "collapsed": false,
    "pycharm": {
     "name": "#%%\n"
    }
   }
  }
 ],
 "metadata": {
  "kernelspec": {
   "name": "powershell",
   "language": "powershell",
   "display_name": "PowerShell"
  },
  "language_info": {
   "codemirror_mode": {
    "name": "ipython",
    "version": 2
   },
   "file_extension": ".py",
   "mimetype": "text/x-python",
   "name": "python",
   "nbconvert_exporter": "python",
   "pygments_lexer": "ipython2",
   "version": "2.7.6"
  }
 },
 "nbformat": 4,
 "nbformat_minor": 0
}